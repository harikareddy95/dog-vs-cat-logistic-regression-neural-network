{
 "cells": [
  {
   "cell_type": "markdown",
   "metadata": {},
   "source": [
    "### Importing necessary packages and modules"
   ]
  },
  {
   "cell_type": "code",
   "execution_count": 1,
   "metadata": {},
   "outputs": [],
   "source": [
    "import os\n",
    "import cv2\n",
    "import numpy as np\n",
    "import matplotlib.pyplot as plt"
   ]
  },
  {
   "cell_type": "markdown",
   "metadata": {},
   "source": [
    "### Pre-processing the dataset : \n",
    "##### Images are of various sizes, need to get all the images to the same size"
   ]
  },
  {
   "cell_type": "code",
   "execution_count": 2,
   "metadata": {},
   "outputs": [],
   "source": [
    "#Defining the variables for the size of an image\n",
    "rows = 64 #height of the image\n",
    "cols = 64 #width of the image\n",
    "channels = 3 #RGB-Red, Blue, Green\n",
    "#Assigning the dataset folder location to the variables \n",
    "train_dir = './train/'\n",
    "test_dir = './test1/'"
   ]
  },
  {
   "cell_type": "code",
   "execution_count": 3,
   "metadata": {},
   "outputs": [],
   "source": [
    "#Storing all the images as a list in following variables\n",
    "train_images = [train_dir+i for i in os.listdir(train_dir)]\n",
    "test_images = [test_dir+i for i in os.listdir(test_dir)]"
   ]
  },
  {
   "cell_type": "code",
   "execution_count": 4,
   "metadata": {},
   "outputs": [],
   "source": [
    "#Creating a function to resize every image it gets\n",
    "def read_image(file_path):\n",
    "    img = cv2.imread(file_path, cv2.IMREAD_COLOR)\n",
    "    return cv2.resize(img, (rows,cols), interpolation=cv2.INTER_CUBIC)"
   ]
  },
  {
   "cell_type": "code",
   "execution_count": 5,
   "metadata": {},
   "outputs": [],
   "source": [
    "#Creating a function which assigns 1 to a dog image and 0 to a cat image\n",
    "def prepare_data(images):\n",
    "    m = len(images)\n",
    "    x = np.zeros((m, rows, cols, channels), dtype=np.uint8) #image\n",
    "    y = np.zeros((1,m)) #output\n",
    "    for i, image_file in enumerate(images):\n",
    "        x[i,:] = read_image(image_file)\n",
    "        if 'dog' in image_file.lower(): #all the images in the folder are named as cats and dogs\n",
    "            y[0,i] = 1\n",
    "        elif 'cat' in image_file.lower():\n",
    "            y[0,i] = 0\n",
    "        if i%5000 == 0 :\n",
    "            print(\"Proceed {} of {}\".format(i, m))\n",
    "    return x, y    "
   ]
  },
  {
   "cell_type": "code",
   "execution_count": 6,
   "metadata": {},
   "outputs": [
    {
     "name": "stdout",
     "output_type": "stream",
     "text": [
      "Proceed 0 of 25000\n",
      "Proceed 5000 of 25000\n",
      "Proceed 10000 of 25000\n",
      "Proceed 15000 of 25000\n",
      "Proceed 20000 of 25000\n",
      "Proceed 0 of 12500\n",
      "Proceed 5000 of 12500\n",
      "Proceed 10000 of 12500\n"
     ]
    }
   ],
   "source": [
    "#Reading all train and test images into respective numpy arrays\n",
    "train_set_x, train_set_y = prepare_data(train_images)\n",
    "test_set_x, test_set_y = prepare_data(test_images)"
   ]
  },
  {
   "cell_type": "code",
   "execution_count": 7,
   "metadata": {},
   "outputs": [],
   "source": [
    "#Re-shaping images of shape (rows, cols, channels) into single vectors of shape (rows*cols*channels,1)\n",
    "#Each column represents a flattened image.\n",
    "train_set_x_flatten = train_set_x.reshape(train_set_x.shape[0], rows*cols*channels).T\n",
    "test_set_x_flatten = test_set_x.reshape(test_set_x.shape[0], -1).T"
   ]
  },
  {
   "cell_type": "code",
   "execution_count": 8,
   "metadata": {},
   "outputs": [
    {
     "name": "stdout",
     "output_type": "stream",
     "text": [
      "train_set_x shape: (25000, 64, 64, 3)\n",
      "train_set_x_flatten shape: (12288, 25000)\n",
      "train_set_y shape: (1, 25000)\n",
      "test_set_x shape: (12500, 64, 64, 3)\n",
      "test_set_x_flatten shape: (12288, 12500)\n",
      "test_set_y shape: (1, 12500)\n"
     ]
    }
   ],
   "source": [
    "#Printing all the shapes\n",
    "print(\"train_set_x shape: \"+str(train_set_x.shape))\n",
    "print(\"train_set_x_flatten shape: \"+str(train_set_x_flatten.shape))\n",
    "print(\"train_set_y shape: \"+str(train_set_y.shape))\n",
    "print(\"test_set_x shape: \"+str(test_set_x.shape))\n",
    "print(\"test_set_x_flatten shape: \"+str(test_set_x_flatten.shape))\n",
    "print(\"test_set_y shape: \"+str(test_set_y.shape))"
   ]
  },
  {
   "cell_type": "code",
   "execution_count": 9,
   "metadata": {},
   "outputs": [],
   "source": [
    "#Standardizing dataset, by dividing every row by 255(max value of a pixel)\n",
    "train_set_x = train_set_x_flatten/255\n",
    "test_set_x = test_set_x_flatten/255"
   ]
  },
  {
   "cell_type": "markdown",
   "metadata": {},
   "source": [
    "### Algorithm"
   ]
  },
  {
   "cell_type": "code",
   "execution_count": 10,
   "metadata": {},
   "outputs": [],
   "source": [
    "#Sigmoid function \n",
    "def sigmoid(z):\n",
    "    s = 1/(1+np.exp(-z))\n",
    "    return s"
   ]
  },
  {
   "cell_type": "code",
   "execution_count": 11,
   "metadata": {},
   "outputs": [],
   "source": [
    "#Initialize a vector of zeros of shape (dim,1) for w and b to 0\n",
    "#dim = number of parameters\n",
    "def initialize_with_zeros(dim):\n",
    "    w = np.zeros((dim,1))\n",
    "    b = 0\n",
    "    return w,b"
   ]
  },
  {
   "cell_type": "code",
   "execution_count": 12,
   "metadata": {},
   "outputs": [],
   "source": [
    "#Forward and Backward propagation, w=weights(numpy array), b=bias, X=data of size(rows*cols*channels,number of training examples), y=label of shape(1,number of training examples)\n",
    "def propagate(w,b,x,y):\n",
    "    m = x.shape[1] #number of training examples\n",
    "    #Forward propagation\n",
    "    z = np.dot(w.T, x)+b\n",
    "    A = sigmoid(z)\n",
    "    cost = (-np.sum(y*np.log(A)+(1-y)*np.log(1-A)))/m\n",
    "    #Backward propagation\n",
    "    dw = (np.dot(x,(A-y).T))/m\n",
    "    db = (np.sum(A-y))/m\n",
    "    cost = np.squeeze(cost)\n",
    "    grads = {\"dw\": dw,\n",
    "             \"db\": db}\n",
    "    return grads, cost"
   ]
  },
  {
   "cell_type": "code",
   "execution_count": 59,
   "metadata": {},
   "outputs": [],
   "source": [
    "#Optimization\n",
    "def optimize(w,b,x,y,num_iterations,learning_rate,print_cost=False):\n",
    "    costs = []\n",
    "    for i in range(num_iterations):\n",
    "        \n",
    "        #cost and gradient\n",
    "        grads, cost = propagate(w,b,x,y)\n",
    "        \n",
    "        #retrieve derivates\n",
    "        dw = grads[\"dw\"]\n",
    "        db = grads[\"db\"]\n",
    "        \n",
    "        #update\n",
    "        w = w-(learning_rate*dw)\n",
    "        b = b-(learning_rate*db)\n",
    "        \n",
    "        #Recording costs\n",
    "        if i%100 == 0:\n",
    "            costs.append(cost)\n",
    "            \n",
    "        #Print the cost every 100 training iterations\n",
    "        if print_cost and i%200 == 0:\n",
    "            print(\"Cost after iteration %i: %f\" %(i,cost))\n",
    "    #Update w and b to dictionary\n",
    "    params = {\"w\": w,\n",
    "             \"b\": b}\n",
    "    #Update derivates to dictionary\n",
    "    grads = {\"dw\": dw,\n",
    "            \"db\": db}\n",
    "    return params, grads, costs"
   ]
  },
  {
   "cell_type": "code",
   "execution_count": 14,
   "metadata": {},
   "outputs": [],
   "source": [
    "#Prediction\n",
    "def predict(w,b,x):\n",
    "    m = x.shape[1]\n",
    "    y_prediction = np.zeros((1,m))\n",
    "    w = w.reshape(x.shape[0],1)\n",
    "    #\n",
    "    A = sigmoid(np.dot(w.T,x)+b)\n",
    "    \n",
    "    for i in range(A.shape[1]):\n",
    "        # Convert probabilities A[0,i] to actual predictions p[0,i]\n",
    "        if A[0,i] > 0.5:\n",
    "            y_prediction[[0],[i]] = 1\n",
    "        else: \n",
    "            y_prediction[[0],[i]] = 0\n",
    "    \n",
    "    return y_prediction"
   ]
  },
  {
   "cell_type": "code",
   "execution_count": 60,
   "metadata": {},
   "outputs": [],
   "source": [
    "#model\n",
    "def model(x_train, y_train, x_test, y_test, num_iterations, learning_rate, print_cost=False):\n",
    "    w, b = initialize_with_zeros(x_train.shape[0])\n",
    "    \n",
    "    parameters, grads, costs = optimize(w,b,x_train,y_train,num_iterations,learning_rate,print_cost=True)\n",
    "    \n",
    "    w=parameters[\"w\"]\n",
    "    b=parameters[\"b\"]\n",
    "    \n",
    "    y_prediction_test = predict(w,b,x_test)\n",
    "    y_prediction_train = predict(w,b,x_train)\n",
    "    \n",
    "    print(\"train accuracy: {}%\".format(100-np.mean(np.abs(y_prediction_train - y_train))*100))\n",
    "    print(\"test accuracy: {}%\".format(100-np.mean(np.abs(y_prediction_test - y_test))*100))\n",
    "    \n",
    "    dict = {\"costs\": costs,\n",
    "            \"y_prediction_test\": y_prediction_test,\n",
    "            \"y_prediction_train\": y_prediction_train,\n",
    "            \"w\": w,\n",
    "            \"b\": b,\n",
    "            \"learning_rate\": learning_rate,\n",
    "            \"num_iterations\": num_iterations\n",
    "    }\n",
    "    return dict"
   ]
  },
  {
   "cell_type": "code",
   "execution_count": 50,
   "metadata": {},
   "outputs": [
    {
     "name": "stdout",
     "output_type": "stream",
     "text": [
      "Cost after iteration 0: 0.693147\n",
      "Cost after iteration 100: 1.351262\n",
      "Cost after iteration 200: 1.307533\n",
      "Cost after iteration 300: 1.280123\n",
      "Cost after iteration 400: 1.261201\n",
      "train accuracy: 50.7%\n",
      "test accuracy: 98.272%\n"
     ]
    }
   ],
   "source": [
    "d = model(train_set_x, train_set_y, test_set_x, test_set_y, num_iterations = 3000, learning_rate = 0.003, print_cost = False)"
   ]
  },
  {
   "cell_type": "code",
   "execution_count": 44,
   "metadata": {},
   "outputs": [
    {
     "name": "stdout",
     "output_type": "stream",
     "text": [
      "Its a cat\n"
     ]
    }
   ],
   "source": [
    "image = 'xyz.jpeg'\n",
    "x = (read_image(image).reshape(1, rows*cols*channels).T)/255\n",
    "y = predict(d[\"w\"],d[\"b\"],x)\n",
    "print(\"Its a cat\" if y==0 else \"Its a dog\")"
   ]
  },
  {
   "cell_type": "code",
   "execution_count": 17,
   "metadata": {},
   "outputs": [
    {
     "name": "stdout",
     "output_type": "stream",
     "text": [
      "learning rate is:  0.001\n",
      "Cost after iteration 0: 0.693147\n",
      "Cost after iteration 100: 1.351262\n",
      "Cost after iteration 200: 1.307533\n",
      "Cost after iteration 300: 1.280123\n",
      "Cost after iteration 400: 1.261201\n",
      "Cost after iteration 500: 1.247182\n",
      "Cost after iteration 600: 1.236278\n",
      "Cost after iteration 700: 1.227513\n",
      "Cost after iteration 800: 1.220283\n",
      "Cost after iteration 900: 1.214185\n",
      "Cost after iteration 1000: 1.208938\n",
      "Cost after iteration 1100: 1.204339\n",
      "Cost after iteration 1200: 1.200243\n",
      "Cost after iteration 1300: 1.196540\n",
      "Cost after iteration 1400: 1.193152\n",
      "Cost after iteration 1500: 1.190017\n",
      "Cost after iteration 1600: 1.187090\n",
      "Cost after iteration 1700: 1.184334\n",
      "Cost after iteration 1800: 1.181723\n",
      "Cost after iteration 1900: 1.179233\n",
      "train accuracy: 52.292%\n",
      "test accuracy: 95.68%\n",
      "-------------------------------------------------------\n",
      "learning rate is:  0.003\n",
      "Cost after iteration 0: 0.693147\n",
      "Cost after iteration 100: 1.351262\n",
      "Cost after iteration 200: 1.307533\n",
      "Cost after iteration 300: 1.280123\n",
      "Cost after iteration 400: 1.261201\n",
      "Cost after iteration 500: 1.247182\n",
      "Cost after iteration 600: 1.236278\n",
      "Cost after iteration 700: 1.227513\n",
      "Cost after iteration 800: 1.220283\n",
      "Cost after iteration 900: 1.214185\n",
      "Cost after iteration 1000: 1.208938\n",
      "Cost after iteration 1100: 1.204339\n",
      "Cost after iteration 1200: 1.200243\n",
      "Cost after iteration 1300: 1.196540\n",
      "Cost after iteration 1400: 1.193152\n",
      "Cost after iteration 1500: 1.190017\n",
      "Cost after iteration 1600: 1.187090\n",
      "Cost after iteration 1700: 1.184334\n",
      "Cost after iteration 1800: 1.181723\n",
      "Cost after iteration 1900: 1.179233\n",
      "train accuracy: 52.292%\n",
      "test accuracy: 95.68%\n",
      "-------------------------------------------------------\n",
      "learning rate is:  0.005\n",
      "Cost after iteration 0: 0.693147\n",
      "Cost after iteration 100: 1.351262\n",
      "Cost after iteration 200: 1.307533\n",
      "Cost after iteration 300: 1.280123\n",
      "Cost after iteration 400: 1.261201\n",
      "Cost after iteration 500: 1.247182\n",
      "Cost after iteration 600: 1.236278\n",
      "Cost after iteration 700: 1.227513\n",
      "Cost after iteration 800: 1.220283\n",
      "Cost after iteration 900: 1.214185\n",
      "Cost after iteration 1000: 1.208938\n",
      "Cost after iteration 1100: 1.204339\n",
      "Cost after iteration 1200: 1.200243\n",
      "Cost after iteration 1300: 1.196540\n",
      "Cost after iteration 1400: 1.193152\n",
      "Cost after iteration 1500: 1.190017\n",
      "Cost after iteration 1600: 1.187090\n",
      "Cost after iteration 1700: 1.184334\n",
      "Cost after iteration 1800: 1.181723\n",
      "Cost after iteration 1900: 1.179233\n",
      "train accuracy: 52.292%\n",
      "test accuracy: 95.68%\n",
      "-------------------------------------------------------\n",
      "learning rate is:  0.01\n",
      "Cost after iteration 0: 0.693147\n",
      "Cost after iteration 100: 1.351262\n",
      "Cost after iteration 200: 1.307533\n",
      "Cost after iteration 300: 1.280123\n",
      "Cost after iteration 400: 1.261201\n",
      "Cost after iteration 500: 1.247182\n",
      "Cost after iteration 600: 1.236278\n",
      "Cost after iteration 700: 1.227513\n",
      "Cost after iteration 800: 1.220283\n",
      "Cost after iteration 900: 1.214185\n",
      "Cost after iteration 1000: 1.208938\n",
      "Cost after iteration 1100: 1.204339\n",
      "Cost after iteration 1200: 1.200243\n",
      "Cost after iteration 1300: 1.196540\n",
      "Cost after iteration 1400: 1.193152\n",
      "Cost after iteration 1500: 1.190017\n",
      "Cost after iteration 1600: 1.187090\n",
      "Cost after iteration 1700: 1.184334\n",
      "Cost after iteration 1800: 1.181723\n",
      "Cost after iteration 1900: 1.179233\n",
      "train accuracy: 52.292%\n",
      "test accuracy: 95.68%\n",
      "-------------------------------------------------------\n"
     ]
    },
    {
     "data": {
      "image/png": "[encoded data removed]",
      "text/plain": [
       "<Figure size 432x288 with 1 Axes>"
      ]
     },
     "metadata": {
      "needs_background": "light"
     },
     "output_type": "display_data"
    }
   ],
   "source": [
    "learning_rates = [0.001, 0.003, 0.005, 0.01]\n",
    "models = {}\n",
    "for i in learning_rates:\n",
    "    print (\"learning rate is: \",i)\n",
    "    models[i] = model(train_set_x, train_set_y, test_set_x, test_set_y, num_iterations = 500, learning_rate = i, print_cost = False)\n",
    "    print (\"-------------------------------------------------------\")"
   ]
  }
 ],
 "metadata": {
  "kernelspec": {
   "display_name": "Python 3",
   "language": "python",
   "name": "python3"
  },
  "language_info": {
   "codemirror_mode": {
    "name": "ipython",
    "version": 3
   },
   "file_extension": ".py",
   "mimetype": "text/x-python",
   "name": "python",
   "nbconvert_exporter": "python",
   "pygments_lexer": "ipython3",
   "version": "3.7.6"
  }
 },
 "nbformat": 4,
 "nbformat_minor": 2
}
